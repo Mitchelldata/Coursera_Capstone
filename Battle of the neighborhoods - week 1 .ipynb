{
 "cells": [
  {
   "cell_type": "markdown",
   "metadata": {},
   "source": [
    "# Introduction and background"
   ]
  },
  {
   "cell_type": "markdown",
   "metadata": {},
   "source": [
    "\"Europe is a large coffee market, accounting for about one-third of global consumption\" (CBI.eu). The Netherlands is one of the largest consuming markets of coffee in Europe with an approximate of 5.6% of European consumption. Since COVID-19 the consumption of coffee have caused a sharp reduction in out-of-home coffee consumption, this has affected coffee shops that supply the out-of-home segment with high quality coffee(CBI.eu).\n",
    "\n",
    "Nevetheless, the demand for high quality coffee and café experiences shows no sign of dissapearing according to a study done in the UK last year, when the pandemic was at it's peak.\n",
    "\n",
    "The city of Amsterdam is one of the most visited and populated cities of The Netherlands. The city itself provides a lot of business opportunities and is a huge attractor of tourism. The market in Amsterdam is highly competitive, and a lot of new places have been business have been started in the past few years.\n",
    "\n",
    "I have always been a refined coffee drinker and absolutely love the taste of it. I am going to explore the opporunity to open up a new coffee-bar in Amsterdam city center. I think after the pandemic the demand for out-of-home coffee experiences will only generate more traffic, and this might be a very good time to start a new company.\n",
    "\n",
    "The project deals with discussing the neighborhood of Amsterdam, The Netherlands. I am going to identify the best place to open up a coffee shop in Amsterdam, with coffee shop we mean a place to drink coffee, and not a place to get softdrugs."
   ]
  },
  {
   "cell_type": "markdown",
   "metadata": {},
   "source": [
    "# Problem Description"
   ]
  },
  {
   "cell_type": "markdown",
   "metadata": {},
   "source": [
    "My imaginary company (Amsterdam Aroma House) is targeting the city of Amsterdam to open up a new coffee bar. The new coffee bar is planning to be of high-quality, and is expected to compete with the large diverse portfolio of companies that supply coffee to the consumer. Consequently, we are not only looking at coffee-bars, for instance, we include sandwich bars, breakfast bars, bagel shops, and bakeries. The foremost reason for including these types of companies is because a high amount of sales come\n",
    "\n",
    "The main problem that we have to resolve is to find the optimal location in the city of Amsterdam. As has been said, Amsterdam is a very popular city to start up a new company, especially in the vicinity of hospitality. We have to identify the optimal location by looking at population density, amount of competition, location, and types of companies that supply coffee.\n",
    "\n",
    "So, in order to to decide on the location we have to include:\n",
    "\n",
    "Population and demographics of Amsterdam, including density\n",
    "The competition we may face in Amsterdam\n",
    "Nearby venues like tourist attractions\n",
    "Segmentation of the boroughs\n",
    "Untapped locations\n",
    "Saturated markets"
   ]
  },
  {
   "cell_type": "markdown",
   "metadata": {},
   "source": [
    "# Data Used"
   ]
  },
  {
   "cell_type": "markdown",
   "metadata": {},
   "source": [
    "The data that I used for the project and for preprocessing includes the following:\n",
    "\n",
    "The importance of coffee: https://www.cbi.eu/market-information/coffee/trade-statistics\n",
    "\n",
    "Postal Codes of Amsterdam, found online from http://download.geonames.org/export/zip/\n",
    "\n",
    "This dataset includes the postal codes of all Dutch postal codes, and had to be cleaned and pre-processed.\n",
    "\n",
    "Population of Amsterdam regarding geospatial data, including the likes of income, density and more: https://opendata.cbs.nl/statline/#/CBS/nl/dataset/84286NED/table?ts=1558337871247\n",
    "\n",
    "Foursquare API to generate venue information in the city of Amsterdam and process them using location clustering. By only generating venues related to \"coffee\", so we may include sandwich bars, donut shops etc."
   ]
  },
  {
   "cell_type": "markdown",
   "metadata": {},
   "source": [
    "# Methodology"
   ]
  },
  {
   "cell_type": "markdown",
   "metadata": {},
   "source": [
    "Importing relevant datasets from the above sources and using the Foursquare API to generate and retrieve venues for Amsterdam city center. Afterwards, we have to preprocess the data, clean the data, do analysis on it by for instance K-means clustering, and generating a heatmap of population density and competition.\n",
    "\n",
    "We will determine the amount of companies that serve coffee to the general public and identify potential locations for our business. We analyze this through detemerining the demographics of the various boroughs together with the amount of competition."
   ]
  },
  {
   "cell_type": "code",
   "execution_count": null,
   "metadata": {},
   "outputs": [],
   "source": []
  }
 ],
 "metadata": {
  "kernelspec": {
   "display_name": "Python 3",
   "language": "python",
   "name": "python3"
  },
  "language_info": {
   "codemirror_mode": {
    "name": "ipython",
    "version": 3
   },
   "file_extension": ".py",
   "mimetype": "text/x-python",
   "name": "python",
   "nbconvert_exporter": "python",
   "pygments_lexer": "ipython3",
   "version": "3.8.3"
  }
 },
 "nbformat": 4,
 "nbformat_minor": 4
}
